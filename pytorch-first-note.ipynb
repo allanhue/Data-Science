{
 "cells": [
  {
   "cell_type": "code",
   "execution_count": 1,
   "id": "29b04d08",
   "metadata": {
    "execution": {
     "iopub.execute_input": "2025-10-29T13:10:26.286170Z",
     "iopub.status.busy": "2025-10-29T13:10:26.285368Z",
     "iopub.status.idle": "2025-10-29T13:10:38.685667Z",
     "shell.execute_reply": "2025-10-29T13:10:38.684235Z"
    },
    "papermill": {
     "duration": 12.405729,
     "end_time": "2025-10-29T13:10:38.687325",
     "exception": false,
     "start_time": "2025-10-29T13:10:26.281596",
     "status": "completed"
    },
    "tags": []
   },
   "outputs": [
    {
     "name": "stdout",
     "output_type": "stream",
     "text": [
      "tensor([[0.9946, 0.9786, 0.4631],\n",
      "        [0.9925, 0.5324, 0.9597],\n",
      "        [0.5534, 0.9106, 0.6171],\n",
      "        [0.4946, 0.7196, 0.6319],\n",
      "        [0.5548, 0.8845, 0.8093]])\n"
     ]
    }
   ],
   "source": [
    "#instaling pytorch and working for machine modles \n",
    "from torch import nn\n",
    "from torch.utils.data import DataLoader\n",
    "from torchvision import datasets\n",
    "from torchvision.transforms import ToTensor\n",
    "import torch\n",
    "x = torch.rand(5, 3)\n",
    "print(x)"
   ]
  },
  {
   "cell_type": "code",
   "execution_count": 2,
   "id": "d9a39a0f",
   "metadata": {
    "execution": {
     "iopub.execute_input": "2025-10-29T13:10:38.693817Z",
     "iopub.status.busy": "2025-10-29T13:10:38.693326Z",
     "iopub.status.idle": "2025-10-29T13:10:40.331990Z",
     "shell.execute_reply": "2025-10-29T13:10:40.330844Z"
    },
    "papermill": {
     "duration": 1.64421,
     "end_time": "2025-10-29T13:10:40.333920",
     "exception": false,
     "start_time": "2025-10-29T13:10:38.689710",
     "status": "completed"
    },
    "tags": []
   },
   "outputs": [
    {
     "name": "stderr",
     "output_type": "stream",
     "text": [
      "100%|██████████| 26.4M/26.4M [00:00<00:00, 106MB/s]\n",
      "100%|██████████| 29.5k/29.5k [00:00<00:00, 3.92MB/s]\n",
      "100%|██████████| 4.42M/4.42M [00:00<00:00, 55.8MB/s]\n",
      "100%|██████████| 5.15k/5.15k [00:00<00:00, 12.4MB/s]\n"
     ]
    }
   ],
   "source": [
    "# Download training data from open datasets.\n",
    "training_data = datasets.FashionMNIST(\n",
    "    root=\"data\",\n",
    "    train=True,\n",
    "    download=True,\n",
    "    transform=ToTensor(),\n",
    ")\n",
    "\n",
    "# Download test data from open datasets.\n",
    "test_data = datasets.FashionMNIST(\n",
    "    root=\"data\",\n",
    "    train=False,\n",
    "    download=True,\n",
    "    transform=ToTensor(),\n",
    ")\n"
   ]
  },
  {
   "cell_type": "code",
   "execution_count": 3,
   "id": "3c5620ad",
   "metadata": {
    "execution": {
     "iopub.execute_input": "2025-10-29T13:10:40.341776Z",
     "iopub.status.busy": "2025-10-29T13:10:40.340958Z",
     "iopub.status.idle": "2025-10-29T13:10:40.366760Z",
     "shell.execute_reply": "2025-10-29T13:10:40.365327Z"
    },
    "papermill": {
     "duration": 0.031394,
     "end_time": "2025-10-29T13:10:40.368508",
     "exception": false,
     "start_time": "2025-10-29T13:10:40.337114",
     "status": "completed"
    },
    "tags": []
   },
   "outputs": [
    {
     "name": "stdout",
     "output_type": "stream",
     "text": [
      "Shape of X [N, C, H, W]: torch.Size([64, 1, 28, 28])\n",
      "Shape of y: torch.Size([64]) torch.int64\n"
     ]
    }
   ],
   "source": [
    "batch_size = 64\n",
    "\n",
    "# Create data loaders.\n",
    "train_dataloader = DataLoader(training_data, batch_size=batch_size)\n",
    "test_dataloader = DataLoader(test_data, batch_size=batch_size)\n",
    "\n",
    "for X, y in test_dataloader:\n",
    "    print(f\"Shape of X [N, C, H, W]: {X.shape}\")\n",
    "    print(f\"Shape of y: {y.shape} {y.dtype}\")\n",
    "    break"
   ]
  },
  {
   "cell_type": "code",
   "execution_count": 4,
   "id": "8946daa4",
   "metadata": {
    "execution": {
     "iopub.execute_input": "2025-10-29T13:10:40.376313Z",
     "iopub.status.busy": "2025-10-29T13:10:40.375372Z",
     "iopub.status.idle": "2025-10-29T13:10:40.395307Z",
     "shell.execute_reply": "2025-10-29T13:10:40.394101Z"
    },
    "papermill": {
     "duration": 0.025766,
     "end_time": "2025-10-29T13:10:40.397275",
     "exception": false,
     "start_time": "2025-10-29T13:10:40.371509",
     "status": "completed"
    },
    "tags": []
   },
   "outputs": [
    {
     "name": "stdout",
     "output_type": "stream",
     "text": [
      "Using cpu device\n",
      "NeuralNetwork(\n",
      "  (flatten): Flatten(start_dim=1, end_dim=-1)\n",
      "  (linear_relu_stack): Sequential(\n",
      "    (0): Linear(in_features=784, out_features=512, bias=True)\n",
      "    (1): ReLU()\n",
      "    (2): Linear(in_features=512, out_features=512, bias=True)\n",
      "    (3): ReLU()\n",
      "    (4): Linear(in_features=512, out_features=10, bias=True)\n",
      "  )\n",
      ")\n"
     ]
    }
   ],
   "source": [
    "device = torch.accelerator.current_accelerator().type if torch.accelerator.is_available() else \"cpu\"\n",
    "print(f\"Using {device} device\")\n",
    "\n",
    "# Define model\n",
    "class NeuralNetwork(nn.Module):\n",
    "    def __init__(self):\n",
    "        super().__init__()\n",
    "        self.flatten = nn.Flatten()\n",
    "        self.linear_relu_stack = nn.Sequential(\n",
    "            nn.Linear(28*28, 512),\n",
    "            nn.ReLU(),\n",
    "            nn.Linear(512, 512),\n",
    "            nn.ReLU(),\n",
    "            nn.Linear(512, 10)\n",
    "        )\n",
    "\n",
    "    def forward(self, x):\n",
    "        x = self.flatten(x)\n",
    "        logits = self.linear_relu_stack(x)\n",
    "        return logits\n",
    "\n",
    "model = NeuralNetwork().to(device)\n",
    "print(model)"
   ]
  },
  {
   "cell_type": "code",
   "execution_count": 5,
   "id": "e11f66d4",
   "metadata": {
    "execution": {
     "iopub.execute_input": "2025-10-29T13:10:40.405172Z",
     "iopub.status.busy": "2025-10-29T13:10:40.404441Z",
     "iopub.status.idle": "2025-10-29T13:10:40.412148Z",
     "shell.execute_reply": "2025-10-29T13:10:40.410904Z"
    },
    "papermill": {
     "duration": 0.013235,
     "end_time": "2025-10-29T13:10:40.413830",
     "exception": false,
     "start_time": "2025-10-29T13:10:40.400595",
     "status": "completed"
    },
    "tags": []
   },
   "outputs": [
    {
     "data": {
      "text/plain": [
       "False"
      ]
     },
     "execution_count": 5,
     "metadata": {},
     "output_type": "execute_result"
    }
   ],
   "source": [
    "import torch\n",
    "torch.cuda.is_available()"
   ]
  }
 ],
 "metadata": {
  "kaggle": {
   "accelerator": "none",
   "dataSources": [],
   "dockerImageVersionId": 31153,
   "isGpuEnabled": false,
   "isInternetEnabled": true,
   "language": "python",
   "sourceType": "notebook"
  },
  "kernelspec": {
   "display_name": "Python 3",
   "language": "python",
   "name": "python3"
  },
  "language_info": {
   "codemirror_mode": {
    "name": "ipython",
    "version": 3
   },
   "file_extension": ".py",
   "mimetype": "text/x-python",
   "name": "python",
   "nbconvert_exporter": "python",
   "pygments_lexer": "ipython3",
   "version": "3.11.13"
  },
  "papermill": {
   "default_parameters": {},
   "duration": 21.124694,
   "end_time": "2025-10-29T13:10:42.140566",
   "environment_variables": {},
   "exception": null,
   "input_path": "__notebook__.ipynb",
   "output_path": "__notebook__.ipynb",
   "parameters": {},
   "start_time": "2025-10-29T13:10:21.015872",
   "version": "2.6.0"
  }
 },
 "nbformat": 4,
 "nbformat_minor": 5
}
